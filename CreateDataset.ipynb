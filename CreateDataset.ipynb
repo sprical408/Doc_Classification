{
 "cells": [
  {
   "cell_type": "markdown",
   "id": "38f65e40-d2ff-4457-9cb0-1cbd28390301",
   "metadata": {},
   "source": [
    "# DOC-name 별로 나뉜 Passage 한번에 합치는 과정  \n",
    "### 데이터 셋 만드는 과정임"
   ]
  },
  {
   "cell_type": "code",
   "execution_count": 30,
   "id": "7937e15f-3225-4d7d-b57b-aeb69eebfdde",
   "metadata": {},
   "outputs": [],
   "source": [
    "import os\n",
    "import pandas as pd\n",
    "import random\n",
    "import json\n",
    "import sklearn"
   ]
  },
  {
   "cell_type": "code",
   "execution_count": 8,
   "id": "cf580ddb-dc24-48af-8d7c-595593f3d45a",
   "metadata": {
    "collapsed": true,
    "jupyter": {
     "outputs_hidden": true
    },
    "tags": []
   },
   "outputs": [
    {
     "ename": "KeyboardInterrupt",
     "evalue": "",
     "output_type": "error",
     "traceback": [
      "\u001b[1;31m---------------------------------------------------------------------------\u001b[0m",
      "\u001b[1;31mKeyboardInterrupt\u001b[0m                         Traceback (most recent call last)",
      "\u001b[1;32m<ipython-input-8-2bc643fd883d>\u001b[0m in \u001b[0;36m<module>\u001b[1;34m\u001b[0m\n\u001b[0;32m      9\u001b[0m     \u001b[0mfile_list\u001b[0m \u001b[1;33m=\u001b[0m \u001b[0mos\u001b[0m\u001b[1;33m.\u001b[0m\u001b[0mlistdir\u001b[0m\u001b[1;33m(\u001b[0m\u001b[0mpath\u001b[0m\u001b[1;33m)\u001b[0m\u001b[1;33m\u001b[0m\u001b[1;33m\u001b[0m\u001b[0m\n\u001b[0;32m     10\u001b[0m     \u001b[1;32mfor\u001b[0m \u001b[0mi\u001b[0m \u001b[1;32min\u001b[0m \u001b[0mrange\u001b[0m\u001b[1;33m(\u001b[0m\u001b[1;36m0\u001b[0m\u001b[1;33m,\u001b[0m \u001b[0mlen\u001b[0m\u001b[1;33m(\u001b[0m\u001b[0mfile_list\u001b[0m\u001b[1;33m)\u001b[0m\u001b[1;33m)\u001b[0m\u001b[1;33m:\u001b[0m\u001b[1;33m\u001b[0m\u001b[1;33m\u001b[0m\u001b[0m\n\u001b[1;32m---> 11\u001b[1;33m         \u001b[1;32mwith\u001b[0m \u001b[0mopen\u001b[0m\u001b[1;33m(\u001b[0m\u001b[0mpath\u001b[0m \u001b[1;33m+\u001b[0m \u001b[0mfile_list\u001b[0m\u001b[1;33m[\u001b[0m\u001b[0mi\u001b[0m\u001b[1;33m]\u001b[0m\u001b[1;33m,\u001b[0m \u001b[1;34m'r'\u001b[0m\u001b[1;33m,\u001b[0m \u001b[0mencoding\u001b[0m \u001b[1;33m=\u001b[0m \u001b[1;34m'utf-8'\u001b[0m\u001b[1;33m)\u001b[0m \u001b[1;32mas\u001b[0m \u001b[0mf\u001b[0m\u001b[1;33m:\u001b[0m\u001b[1;33m\u001b[0m\u001b[1;33m\u001b[0m\u001b[0m\n\u001b[0m\u001b[0;32m     12\u001b[0m             \u001b[0mdata\u001b[0m \u001b[1;33m=\u001b[0m \u001b[0mjson\u001b[0m\u001b[1;33m.\u001b[0m\u001b[0mload\u001b[0m\u001b[1;33m(\u001b[0m\u001b[0mf\u001b[0m\u001b[1;33m)\u001b[0m\u001b[1;33m\u001b[0m\u001b[1;33m\u001b[0m\u001b[0m\n\u001b[0;32m     13\u001b[0m             data_list.append([\n",
      "\u001b[1;32m~\\anaconda3\\envs\\nlp\\lib\\codecs.py\u001b[0m in \u001b[0;36m__init__\u001b[1;34m(self, errors)\u001b[0m\n\u001b[0;32m    307\u001b[0m     \u001b[0mbyte\u001b[0m \u001b[0msequences\u001b[0m\u001b[1;33m.\u001b[0m\u001b[1;33m\u001b[0m\u001b[1;33m\u001b[0m\u001b[0m\n\u001b[0;32m    308\u001b[0m     \"\"\"\n\u001b[1;32m--> 309\u001b[1;33m     \u001b[1;32mdef\u001b[0m \u001b[0m__init__\u001b[0m\u001b[1;33m(\u001b[0m\u001b[0mself\u001b[0m\u001b[1;33m,\u001b[0m \u001b[0merrors\u001b[0m\u001b[1;33m=\u001b[0m\u001b[1;34m'strict'\u001b[0m\u001b[1;33m)\u001b[0m\u001b[1;33m:\u001b[0m\u001b[1;33m\u001b[0m\u001b[1;33m\u001b[0m\u001b[0m\n\u001b[0m\u001b[0;32m    310\u001b[0m         \u001b[0mIncrementalDecoder\u001b[0m\u001b[1;33m.\u001b[0m\u001b[0m__init__\u001b[0m\u001b[1;33m(\u001b[0m\u001b[0mself\u001b[0m\u001b[1;33m,\u001b[0m \u001b[0merrors\u001b[0m\u001b[1;33m)\u001b[0m\u001b[1;33m\u001b[0m\u001b[1;33m\u001b[0m\u001b[0m\n\u001b[0;32m    311\u001b[0m         \u001b[1;31m# undecoded input that is kept between calls to decode()\u001b[0m\u001b[1;33m\u001b[0m\u001b[1;33m\u001b[0m\u001b[1;33m\u001b[0m\u001b[0m\n",
      "\u001b[1;31mKeyboardInterrupt\u001b[0m: "
     ]
    }
   ],
   "source": [
    "'''\n",
    "# 초기 JSON 데이터를 Dataframe으로 변환하는 과정\n",
    "data_list = []\n",
    "# 폴더 내의 파일 리스트 생성\n",
    "topics = ['기술과학','기타','사회과학','예술']\n",
    "\n",
    "# 폴더 내의 모든 json 파일 중 필요한 부분만 저장하기\n",
    "for topic in topics:\n",
    "    path = './data/{}/'.format(topic)\n",
    "    file_list = os.listdir(path)\n",
    "    for i in range(0, len(file_list)):\n",
    "        with open(path + file_list[i], 'r', encoding = 'utf-8') as f:\n",
    "            data = json.load(f)\n",
    "            data_list.append([\n",
    "                              data['metadata']['doc_name'],\n",
    "                              data['metadata']['kdc_label'],\n",
    "                              data['passage']\n",
    "                             ])\n",
    "# 저장된 data_list를 DataFrame으로 변환            \n",
    "df = pd.DataFrame(data_list, columns =[['doc_name','kdc_label','passage']])\n",
    "\n",
    "# 결측치 제거\n",
    "df = df.dropna()\n",
    "\n",
    "# kdc_label 리스트 화 및 중복 제거 과정\n",
    "label = df.kdc_label.values\n",
    "\n",
    "label_list = []\n",
    "for i in label:\n",
    "    label_list.append(i)\n",
    "\n",
    "label_list = list(set(label_list))\n",
    "print(label_list)\n",
    "print(len(label_list))\n",
    "\n",
    "df[(df['kdc_label'] == '국방, 군사학')] = '국방,군사학'\n",
    "df[(df['kdc_label'] == '오락, 운동')] = '오락,스포츠'\n",
    "df[(df['kdc_label'] == '사회학, 사회문제')] = '사회학,사회문제'\n",
    "df[(df['kdc_label'] == '재정·금융')] = '금융'\n",
    "df[(df['kdc_label'] == '풍속, 민속학')] = '풍속,예절,민속학'\n",
    "df[(df['kdc_label'] == '아시아(아세아)')] = '아시아'\n",
    "df[(df['kdc_label'] == '일반학회, 단체, 연구조사기관')] = '일반학회, 단체, 협회, 기관'\n",
    "df[(df['kdc_label'] == '일반학회, 단체,협회,기관')] = '일반학회, 단체, 협회, 기관'\n",
    "df[(df['kdc_label'] == '윤리학, 도덕철학')] = '윤리학'\n",
    "\n",
    "# CSV 파일로 저장\n",
    "#df.to_csv('raw.csv', index = False, encoding = 'utf-8-sig')\n",
    "'''"
   ]
  },
  {
   "cell_type": "code",
   "execution_count": 31,
   "id": "3a555d8d-148b-4623-8033-0c3b584c3bfb",
   "metadata": {},
   "outputs": [],
   "source": [
    "df = pd.read_csv('valid_raw.csv')"
   ]
  },
  {
   "cell_type": "code",
   "execution_count": 32,
   "id": "2a0e503c-2024-4c25-acd2-973cb6cddd46",
   "metadata": {},
   "outputs": [],
   "source": [
    "df = sklearn.utils.shuffle(df)"
   ]
  },
  {
   "cell_type": "code",
   "execution_count": 34,
   "id": "02bf71d9-ab6f-4220-adfa-8e74a99cc4e0",
   "metadata": {
    "tags": []
   },
   "outputs": [],
   "source": [
    "doc_name_list = []\n",
    "\n",
    "for i in range(len(df)):\n",
    "    doc_name_list.append(df.doc_name.values[i])\n",
    "    \n",
    "doc_name_list = list(set(doc_name_list))"
   ]
  },
  {
   "cell_type": "code",
   "execution_count": 35,
   "id": "fa85c8f6-19fa-42a2-9ad1-1780ee643eed",
   "metadata": {
    "tags": []
   },
   "outputs": [],
   "source": [
    "# 데이터 셋 초기화\n",
    "dataset = {'label' : [], 'title' : [], 'content' : []}\n",
    "\n",
    "# doc_name_list에 따른 문서 제목, 내용 입력\n",
    "for i in doc_name_list:\n",
    "    dataset['title'].append(i)\n",
    "    temp = list(df.loc[df['doc_name'] == i]['passage'].values[:])\n",
    "    temp = \" \".join(temp)\n",
    "    dataset['content'].append(temp)"
   ]
  },
  {
   "cell_type": "code",
   "execution_count": 36,
   "id": "39432e87-b7f8-418a-9039-e6cbe58767d2",
   "metadata": {},
   "outputs": [],
   "source": [
    "# 각 문서 제목을 참고하여 라벨 정보 입력\n",
    "check = []\n",
    "for title in dataset['title']:\n",
    "    if title in check : \n",
    "        continue\n",
    "    else :\n",
    "        check.append(title)\n",
    "        dataset['label'].append(df.loc[df['doc_name'] == title]['kdc_label'].values[0])"
   ]
  },
  {
   "cell_type": "code",
   "execution_count": 37,
   "id": "e61dd59b-2a3c-4773-8104-69d3dbf97962",
   "metadata": {},
   "outputs": [],
   "source": [
    "# label 리스트 화 및 중복 제거 과정\n",
    "label_list = list(set(dataset['label']))"
   ]
  },
  {
   "cell_type": "code",
   "execution_count": 38,
   "id": "2cf0d54a-a60e-480e-ba16-52b2ba8be9a4",
   "metadata": {
    "tags": []
   },
   "outputs": [],
   "source": [
    "# 라벨별 content 데이터 셋 초기화\n",
    "label_dataset = {'label' : [], 'content' : []}\n",
    "\n",
    "# doc_name_list에 따른 문서 제목, 내용 입력\n",
    "for i in label_list:\n",
    "    label_dataset['label'].append(i)\n",
    "    temp = list(df.loc[df['kdc_label'] == i]['passage'].values[:])\n",
    "    temp = \" \".join(temp)\n",
    "    label_dataset['content'].append(temp)"
   ]
  },
  {
   "cell_type": "code",
   "execution_count": 39,
   "id": "c2607a77-7892-4214-bbe2-54ab2f9d32a6",
   "metadata": {},
   "outputs": [],
   "source": [
    "# JSON 파일로 저장\n",
    "with open('valid_data.json','w') as f:\n",
    "    json.dump(dataset,f)"
   ]
  },
  {
   "cell_type": "code",
   "execution_count": null,
   "id": "b8476d77-52cf-442a-af0f-30ce8207f426",
   "metadata": {},
   "outputs": [],
   "source": [
    "#validation"
   ]
  },
  {
   "cell_type": "code",
   "execution_count": 22,
   "id": "6cfcd454-a0ee-42f9-90f0-167b1c6d964e",
   "metadata": {
    "collapsed": true,
    "jupyter": {
     "outputs_hidden": true
    },
    "tags": []
   },
   "outputs": [
    {
     "name": "stdout",
     "output_type": "stream",
     "text": [
      "['원자력기술', '문헌정보학', '철학', '일반행정', '한국문학', '사회학,사회문제', '국방,군사학', '회화,도화', '해운·항만', '음악', '환경일반', '평생·직업교육', '법무및검찰', '방송통신', '고용노동', '한국어', '식품의약안전', '국정홍보', '물류등기타', '아시아', '임업·산촌', '기획재정', '건축술', '상하수도·수질', '공연예술 및 매체예술', '외교', '도서관학 및 정보과학', '역사', '일반학회, 단체, 협회, 기관', '윤리학', '총류일반', '국가통계', '에너지및자원개발', '문화재', '취약계층지원', '공학, 공업일반', '행정학', '교육일반', '오락,스포츠', '연극', '공정거래', '과학기술연구', '공적연금', '사회복지일반', '고등교육', '철도', '경제학', '산업·중소기업일반', '일반연속간행물', '해양수산·어촌', '법학', '보훈', '통상', '과학기술진흥', '형이상학', '예술', '산업금융', '풍속,예절,민속학', '금융', '건강보험', '지방행정·재정지원', '문화체육관광일반', '기초생활보장', '관광', '문화예술', '지리', '산업진흥·고도화', '안전관리', '신문, 잡지', '도로', '체육', '해양환경', '사회과학', '독일어', '통일', '법제', '지역및도시', '통계학', '노인·청소년', '농업·농촌', '영미문학', '교육학', '유아및초·중등교육', '기타', '국민권익·인권', '세제', '심리학', '경찰', '대기', '국정운영', '정치학', '문학', '보육·가족및여성', '항공·공항', '무역및투자유치', '보건의료', '자연', '병무행정', '주택']\n",
      "99\n"
     ]
    },
    {
     "data": {
      "text/plain": [
       "\"\\n# 초기 JSON 데이터를 Dataframe으로 변환하는 과정\\ndata_list = []\\n# 폴더 내의 파일 리스트 생성\\ntopics = ['기술과학','기타','사회과학','예술']\\n\\n# 폴더 내의 모든 json 파일 중 필요한 부분만 저장하기\\nfor topic in topics:\\n    path = './data/{}/'.format(topic)\\n    file_list = os.listdir(path)\\n    for i in range(0, len(file_list)):\\n        with open(path + file_list[i], 'r', encoding = 'utf-8') as f:\\n            data = json.load(f)\\n            data_list.append([\\n                              data['metadata']['doc_name'],\\n                              data['metadata']['kdc_label'],\\n                              data['passage']\\n                             ])\\n# 저장된 data_list를 DataFrame으로 변환            \\ndf = pd.DataFrame(data_list, columns =[['doc_name','kdc_label','passage']])\\n\\n# 결측치 제거\\ndf = df.dropna()\\n\\n# kdc_label 리스트 화 및 중복 제거 과정\\nlabel = df.kdc_label.values\\n\\nlabel_list = []\\nfor i in label:\\n    label_list.append(i)\\n\\nlabel_list = list(set(label_list))\\nprint(label_list)\\nprint(len(label_list))\\n\\ndf[(df['kdc_label'] == '국방, 군사학')] = '국방,군사학'\\ndf[(df['kdc_label'] == '오락, 운동')] = '오락,스포츠'\\ndf[(df['kdc_label'] == '사회학, 사회문제')] = '사회학,사회문제'\\ndf[(df['kdc_label'] == '재정·금융')] = '금융'\\ndf[(df['kdc_label'] == '풍속, 민속학')] = '풍속,예절,민속학'\\ndf[(df['kdc_label'] == '아시아(아세아)')] = '아시아'\\ndf[(df['kdc_label'] == '일반학회, 단체, 연구조사기관')] = '일반학회, 단체, 협회, 기관'\\ndf[(df['kdc_label'] == '일반학회, 단체,협회,기관')] = '일반학회, 단체, 협회, 기관'\\ndf[(df['kdc_label'] == '윤리학, 도덕철학')] = '윤리학'\\n\\n# CSV 파일로 저장\\n#df.to_csv('raw.csv', index = False, encoding = 'utf-8-sig')\\n\""
      ]
     },
     "execution_count": 22,
     "metadata": {},
     "output_type": "execute_result"
    }
   ],
   "source": []
  }
 ],
 "metadata": {
  "kernelspec": {
   "display_name": "nlp",
   "language": "python",
   "name": "nlp"
  },
  "language_info": {
   "codemirror_mode": {
    "name": "ipython",
    "version": 3
   },
   "file_extension": ".py",
   "mimetype": "text/x-python",
   "name": "python",
   "nbconvert_exporter": "python",
   "pygments_lexer": "ipython3",
   "version": "3.8.8"
  }
 },
 "nbformat": 4,
 "nbformat_minor": 5
}
